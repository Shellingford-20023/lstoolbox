{
 "cells": [
  {
   "cell_type": "code",
   "execution_count": 23,
   "metadata": {},
   "outputs": [
    {
     "name": "stdout",
     "output_type": "stream",
     "text": [
      "2\n"
     ]
    },
    {
     "data": {
      "text/plain": [
       "array([[1., 0.],\n",
       "       [0., 1.]])"
      ]
     },
     "execution_count": 23,
     "metadata": {},
     "output_type": "execute_result"
    }
   ],
   "source": [
    "import numpy as np\n",
    "\n",
    "S = 1/2\n",
    "nstates = int(2*S+1)\n",
    "print(nstates)\n",
    "np.ones((nstates,), dtype=int)\n",
    "np.diag(np.ones((nstates,)),0)\n",
    "eigSz = np.zeros([nstates, nstates] + np.diag(np.ones(nstates)))"
   ]
  },
  {
   "cell_type": "code",
   "execution_count": null,
   "metadata": {},
   "outputs": [],
   "source": [
    "\n",
    "# function S = spinmat(S, direction)\n",
    "\n",
    "# nstates = 2*S+1;\n",
    "# % Eigen states in Sz\n",
    "# eigSz = zeros(nstates,nstates)+diag(ones(1,nstates));\n",
    "\n",
    "# % projection of angular moment?\n",
    "# m = -S:1:S;\n",
    "# m = sort(m,'descend');\n",
    "\n",
    "# Sstates = S*(S+1);\n",
    "\n",
    "# % Compute S+ and S-,\n",
    "# % sqrt(S(S+1)-m(m+1)) and (S(S+1)-m(m-1)) respectively\n",
    "\n",
    "# for i = 2:nstates\n",
    "#     Splus(:,1) = zeros(1,nstates);``\n",
    "#     Splus(:,i) = sqrt(Sstates - m(i)*(m(i)+1))*eigSz(:,i-1);\n",
    "# end\n",
    "# Splus;\n",
    "\n",
    "# for i = 1:nstates-1\n",
    "#     Sminus(:,i) = sqrt(Sstates - m(i)*(m(i)-1))*eigSz(:,i+1);\n",
    "# end\n",
    "# Sminus = [Sminus zeros(nstates,1)];\n",
    "\n",
    "# Sx = (Splus + Sminus)/2;      % Sx\n",
    "# Sy = (Splus - Sminus)/(2*1i);      % Sy\n",
    "# Sz = eigSz.*m;                % Sz\n",
    "\n",
    "# % Print what exactly you want\n",
    "# % If no specific direction is indicated, print Sx,Sy and Sz.\n",
    "# if nargin <= 1\n",
    "#     S = {Sx,Sy,Sz};\n",
    "# else\n",
    "#     switch direction\n",
    "#         case 'x'\n",
    "#             S = Sx;\n",
    "#         case 'y'\n",
    "#             S = Sy;\n",
    "#         case 'z'\n",
    "#             S = Sz;\n",
    "#         otherwise\n",
    "#             error ('Input \"x\", \"y\" or \"z\"')\n",
    "#     end\n",
    "# end\n",
    "# end"
   ]
  }
 ],
 "metadata": {
  "kernelspec": {
   "display_name": "MolecularPython",
   "language": "python",
   "name": "python3"
  },
  "language_info": {
   "codemirror_mode": {
    "name": "ipython",
    "version": 3
   },
   "file_extension": ".py",
   "mimetype": "text/x-python",
   "name": "python",
   "nbconvert_exporter": "python",
   "pygments_lexer": "ipython3",
   "version": "3.12.7"
  }
 },
 "nbformat": 4,
 "nbformat_minor": 2
}
